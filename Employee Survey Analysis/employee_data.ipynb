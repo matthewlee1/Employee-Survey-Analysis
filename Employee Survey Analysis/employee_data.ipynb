{
 "cells": [
  {
   "cell_type": "code",
   "execution_count": 3,
   "metadata": {},
   "outputs": [],
   "source": [
    "import numpy as np\n",
    "import pandas as pd\n",
    "import seaborn as sns"
   ]
  },
  {
   "cell_type": "code",
   "execution_count": 4,
   "metadata": {},
   "outputs": [],
   "source": [
    "df = pd.read_csv(\"Employee_Survey_Raw_Data.csv\")"
   ]
  },
  {
   "cell_type": "code",
   "execution_count": 5,
   "metadata": {},
   "outputs": [
    {
     "data": {
      "text/html": [
       "<div>\n",
       "<style scoped>\n",
       "    .dataframe tbody tr th:only-of-type {\n",
       "        vertical-align: middle;\n",
       "    }\n",
       "\n",
       "    .dataframe tbody tr th {\n",
       "        vertical-align: top;\n",
       "    }\n",
       "\n",
       "    .dataframe thead th {\n",
       "        text-align: right;\n",
       "    }\n",
       "</style>\n",
       "<table border=\"1\" class=\"dataframe\">\n",
       "  <thead>\n",
       "    <tr style=\"text-align: right;\">\n",
       "      <th></th>\n",
       "      <th>Executive</th>\n",
       "      <th>Company</th>\n",
       "      <th>Group_Layer</th>\n",
       "      <th>Culture</th>\n",
       "      <th>Career</th>\n",
       "      <th>Communication</th>\n",
       "      <th>Growth</th>\n",
       "      <th>Manager</th>\n",
       "      <th>Respect</th>\n",
       "      <th>Team</th>\n",
       "      <th>Satisfaction</th>\n",
       "    </tr>\n",
       "  </thead>\n",
       "  <tbody>\n",
       "    <tr>\n",
       "      <th>0</th>\n",
       "      <td>Achim Plass</td>\n",
       "      <td>Pantheon</td>\n",
       "      <td>`03-04</td>\n",
       "      <td>4</td>\n",
       "      <td>3</td>\n",
       "      <td>4</td>\n",
       "      <td>3</td>\n",
       "      <td>3</td>\n",
       "      <td>4</td>\n",
       "      <td>4</td>\n",
       "      <td>3</td>\n",
       "    </tr>\n",
       "    <tr>\n",
       "      <th>1</th>\n",
       "      <td>Achim Plass</td>\n",
       "      <td>Pantheon</td>\n",
       "      <td>`03-04</td>\n",
       "      <td>2</td>\n",
       "      <td>3</td>\n",
       "      <td>2</td>\n",
       "      <td>4</td>\n",
       "      <td>3</td>\n",
       "      <td>3</td>\n",
       "      <td>4</td>\n",
       "      <td>3</td>\n",
       "    </tr>\n",
       "    <tr>\n",
       "      <th>2</th>\n",
       "      <td>Achim Plass</td>\n",
       "      <td>Pantheon</td>\n",
       "      <td>`03-04</td>\n",
       "      <td>3</td>\n",
       "      <td>5</td>\n",
       "      <td>5</td>\n",
       "      <td>5</td>\n",
       "      <td>5</td>\n",
       "      <td>5</td>\n",
       "      <td>5</td>\n",
       "      <td>5</td>\n",
       "    </tr>\n",
       "    <tr>\n",
       "      <th>3</th>\n",
       "      <td>Andreas Hargrove</td>\n",
       "      <td>Plexus</td>\n",
       "      <td>`03-04</td>\n",
       "      <td>4</td>\n",
       "      <td>3</td>\n",
       "      <td>5</td>\n",
       "      <td>4</td>\n",
       "      <td>5</td>\n",
       "      <td>5</td>\n",
       "      <td>3</td>\n",
       "      <td>2</td>\n",
       "    </tr>\n",
       "    <tr>\n",
       "      <th>4</th>\n",
       "      <td>Andreas Hargrove</td>\n",
       "      <td>Plexus</td>\n",
       "      <td>`03-04</td>\n",
       "      <td>4</td>\n",
       "      <td>4</td>\n",
       "      <td>4</td>\n",
       "      <td>4</td>\n",
       "      <td>2</td>\n",
       "      <td>4</td>\n",
       "      <td>4</td>\n",
       "      <td>4</td>\n",
       "    </tr>\n",
       "  </tbody>\n",
       "</table>\n",
       "</div>"
      ],
      "text/plain": [
       "          Executive   Company Group_Layer  Culture  Career  Communication  \\\n",
       "0       Achim Plass  Pantheon      `03-04        4       3              4   \n",
       "1       Achim Plass  Pantheon      `03-04        2       3              2   \n",
       "2       Achim Plass  Pantheon      `03-04        3       5              5   \n",
       "3  Andreas Hargrove    Plexus      `03-04        4       3              5   \n",
       "4  Andreas Hargrove    Plexus      `03-04        4       4              4   \n",
       "\n",
       "   Growth  Manager  Respect  Team  Satisfaction  \n",
       "0       3        3        4     4             3  \n",
       "1       4        3        3     4             3  \n",
       "2       5        5        5     5             5  \n",
       "3       4        5        5     3             2  \n",
       "4       4        2        4     4             4  "
      ]
     },
     "execution_count": 5,
     "metadata": {},
     "output_type": "execute_result"
    }
   ],
   "source": [
    "df.head()"
   ]
  },
  {
   "cell_type": "code",
   "execution_count": 6,
   "metadata": {},
   "outputs": [
    {
     "data": {
      "text/plain": [
       "(174, 11)"
      ]
     },
     "execution_count": 6,
     "metadata": {},
     "output_type": "execute_result"
    }
   ],
   "source": [
    "df.shape"
   ]
  },
  {
   "cell_type": "code",
   "execution_count": 7,
   "metadata": {},
   "outputs": [
    {
     "data": {
      "text/plain": [
       "Sparta        39\n",
       "BrightStar    36\n",
       "Pantheon      33\n",
       "Plexus        30\n",
       "Cyberspace    24\n",
       "Fluent        12\n",
       "Name: Company, dtype: int64"
      ]
     },
     "execution_count": 7,
     "metadata": {},
     "output_type": "execute_result"
    }
   ],
   "source": [
    "df.Company.value_counts()"
   ]
  },
  {
   "cell_type": "code",
   "execution_count": 8,
   "metadata": {},
   "outputs": [
    {
     "data": {
      "text/html": [
       "<div>\n",
       "<style scoped>\n",
       "    .dataframe tbody tr th:only-of-type {\n",
       "        vertical-align: middle;\n",
       "    }\n",
       "\n",
       "    .dataframe tbody tr th {\n",
       "        vertical-align: top;\n",
       "    }\n",
       "\n",
       "    .dataframe thead th {\n",
       "        text-align: right;\n",
       "    }\n",
       "</style>\n",
       "<table border=\"1\" class=\"dataframe\">\n",
       "  <thead>\n",
       "    <tr style=\"text-align: right;\">\n",
       "      <th></th>\n",
       "      <th>Culture</th>\n",
       "      <th>Career</th>\n",
       "      <th>Communication</th>\n",
       "      <th>Growth</th>\n",
       "      <th>Manager</th>\n",
       "      <th>Respect</th>\n",
       "      <th>Team</th>\n",
       "      <th>Satisfaction</th>\n",
       "    </tr>\n",
       "  </thead>\n",
       "  <tbody>\n",
       "    <tr>\n",
       "      <th>count</th>\n",
       "      <td>174.000000</td>\n",
       "      <td>174.000000</td>\n",
       "      <td>174.000000</td>\n",
       "      <td>174.000000</td>\n",
       "      <td>174.000000</td>\n",
       "      <td>174.000000</td>\n",
       "      <td>174.000000</td>\n",
       "      <td>174.000000</td>\n",
       "    </tr>\n",
       "    <tr>\n",
       "      <th>mean</th>\n",
       "      <td>4.022989</td>\n",
       "      <td>3.741379</td>\n",
       "      <td>3.810345</td>\n",
       "      <td>3.959770</td>\n",
       "      <td>4.178161</td>\n",
       "      <td>4.229885</td>\n",
       "      <td>4.137931</td>\n",
       "      <td>3.925287</td>\n",
       "    </tr>\n",
       "    <tr>\n",
       "      <th>std</th>\n",
       "      <td>0.973368</td>\n",
       "      <td>1.110543</td>\n",
       "      <td>1.016458</td>\n",
       "      <td>0.945688</td>\n",
       "      <td>1.079170</td>\n",
       "      <td>0.927439</td>\n",
       "      <td>0.914525</td>\n",
       "      <td>0.979645</td>\n",
       "    </tr>\n",
       "    <tr>\n",
       "      <th>min</th>\n",
       "      <td>-1.000000</td>\n",
       "      <td>-1.000000</td>\n",
       "      <td>-1.000000</td>\n",
       "      <td>-1.000000</td>\n",
       "      <td>-1.000000</td>\n",
       "      <td>-1.000000</td>\n",
       "      <td>-1.000000</td>\n",
       "      <td>-1.000000</td>\n",
       "    </tr>\n",
       "    <tr>\n",
       "      <th>25%</th>\n",
       "      <td>4.000000</td>\n",
       "      <td>3.000000</td>\n",
       "      <td>3.000000</td>\n",
       "      <td>3.250000</td>\n",
       "      <td>4.000000</td>\n",
       "      <td>4.000000</td>\n",
       "      <td>4.000000</td>\n",
       "      <td>3.000000</td>\n",
       "    </tr>\n",
       "    <tr>\n",
       "      <th>50%</th>\n",
       "      <td>4.000000</td>\n",
       "      <td>4.000000</td>\n",
       "      <td>4.000000</td>\n",
       "      <td>4.000000</td>\n",
       "      <td>4.000000</td>\n",
       "      <td>4.000000</td>\n",
       "      <td>4.000000</td>\n",
       "      <td>4.000000</td>\n",
       "    </tr>\n",
       "    <tr>\n",
       "      <th>75%</th>\n",
       "      <td>5.000000</td>\n",
       "      <td>5.000000</td>\n",
       "      <td>5.000000</td>\n",
       "      <td>5.000000</td>\n",
       "      <td>5.000000</td>\n",
       "      <td>5.000000</td>\n",
       "      <td>5.000000</td>\n",
       "      <td>5.000000</td>\n",
       "    </tr>\n",
       "    <tr>\n",
       "      <th>max</th>\n",
       "      <td>5.000000</td>\n",
       "      <td>5.000000</td>\n",
       "      <td>5.000000</td>\n",
       "      <td>5.000000</td>\n",
       "      <td>5.000000</td>\n",
       "      <td>5.000000</td>\n",
       "      <td>5.000000</td>\n",
       "      <td>5.000000</td>\n",
       "    </tr>\n",
       "  </tbody>\n",
       "</table>\n",
       "</div>"
      ],
      "text/plain": [
       "          Culture      Career  Communication      Growth     Manager  \\\n",
       "count  174.000000  174.000000     174.000000  174.000000  174.000000   \n",
       "mean     4.022989    3.741379       3.810345    3.959770    4.178161   \n",
       "std      0.973368    1.110543       1.016458    0.945688    1.079170   \n",
       "min     -1.000000   -1.000000      -1.000000   -1.000000   -1.000000   \n",
       "25%      4.000000    3.000000       3.000000    3.250000    4.000000   \n",
       "50%      4.000000    4.000000       4.000000    4.000000    4.000000   \n",
       "75%      5.000000    5.000000       5.000000    5.000000    5.000000   \n",
       "max      5.000000    5.000000       5.000000    5.000000    5.000000   \n",
       "\n",
       "          Respect        Team  Satisfaction  \n",
       "count  174.000000  174.000000    174.000000  \n",
       "mean     4.229885    4.137931      3.925287  \n",
       "std      0.927439    0.914525      0.979645  \n",
       "min     -1.000000   -1.000000     -1.000000  \n",
       "25%      4.000000    4.000000      3.000000  \n",
       "50%      4.000000    4.000000      4.000000  \n",
       "75%      5.000000    5.000000      5.000000  \n",
       "max      5.000000    5.000000      5.000000  "
      ]
     },
     "execution_count": 8,
     "metadata": {},
     "output_type": "execute_result"
    }
   ],
   "source": [
    "df.describe()"
   ]
  },
  {
   "cell_type": "markdown",
   "metadata": {},
   "source": [
    "## Missing Value Treatment"
   ]
  },
  {
   "cell_type": "code",
   "execution_count": 9,
   "metadata": {},
   "outputs": [],
   "source": [
    "# Replace -1 to Nan\n",
    "df = df.replace([-1], np.nan)"
   ]
  },
  {
   "cell_type": "code",
   "execution_count": 10,
   "metadata": {},
   "outputs": [],
   "source": [
    "# Replace Nan to the median value of the feature column\n",
    "df = df.fillna(df.median())"
   ]
  },
  {
   "cell_type": "code",
   "execution_count": 11,
   "metadata": {},
   "outputs": [
    {
     "data": {
      "text/plain": [
       "Executive        0\n",
       "Company          0\n",
       "Group_Layer      0\n",
       "Culture          0\n",
       "Career           0\n",
       "Communication    0\n",
       "Growth           0\n",
       "Manager          0\n",
       "Respect          0\n",
       "Team             0\n",
       "Satisfaction     0\n",
       "dtype: int64"
      ]
     },
     "execution_count": 11,
     "metadata": {},
     "output_type": "execute_result"
    }
   ],
   "source": [
    "df.isnull().sum()"
   ]
  },
  {
   "cell_type": "code",
   "execution_count": 12,
   "metadata": {},
   "outputs": [
    {
     "data": {
      "text/html": [
       "<div>\n",
       "<style scoped>\n",
       "    .dataframe tbody tr th:only-of-type {\n",
       "        vertical-align: middle;\n",
       "    }\n",
       "\n",
       "    .dataframe tbody tr th {\n",
       "        vertical-align: top;\n",
       "    }\n",
       "\n",
       "    .dataframe thead th {\n",
       "        text-align: right;\n",
       "    }\n",
       "</style>\n",
       "<table border=\"1\" class=\"dataframe\">\n",
       "  <thead>\n",
       "    <tr style=\"text-align: right;\">\n",
       "      <th></th>\n",
       "      <th>Culture</th>\n",
       "      <th>Career</th>\n",
       "      <th>Communication</th>\n",
       "      <th>Growth</th>\n",
       "      <th>Manager</th>\n",
       "      <th>Respect</th>\n",
       "      <th>Team</th>\n",
       "      <th>Satisfaction</th>\n",
       "    </tr>\n",
       "  </thead>\n",
       "  <tbody>\n",
       "    <tr>\n",
       "      <th>count</th>\n",
       "      <td>174.000000</td>\n",
       "      <td>174.000000</td>\n",
       "      <td>174.000000</td>\n",
       "      <td>174.000000</td>\n",
       "      <td>174.000000</td>\n",
       "      <td>174.000000</td>\n",
       "      <td>174.000000</td>\n",
       "      <td>174.000000</td>\n",
       "    </tr>\n",
       "    <tr>\n",
       "      <th>mean</th>\n",
       "      <td>4.051724</td>\n",
       "      <td>3.770115</td>\n",
       "      <td>3.839080</td>\n",
       "      <td>3.988506</td>\n",
       "      <td>4.235632</td>\n",
       "      <td>4.258621</td>\n",
       "      <td>4.166667</td>\n",
       "      <td>3.954023</td>\n",
       "    </tr>\n",
       "    <tr>\n",
       "      <th>std</th>\n",
       "      <td>0.894862</td>\n",
       "      <td>1.050198</td>\n",
       "      <td>0.948056</td>\n",
       "      <td>0.866783</td>\n",
       "      <td>0.922860</td>\n",
       "      <td>0.837565</td>\n",
       "      <td>0.826465</td>\n",
       "      <td>0.904811</td>\n",
       "    </tr>\n",
       "    <tr>\n",
       "      <th>min</th>\n",
       "      <td>1.000000</td>\n",
       "      <td>1.000000</td>\n",
       "      <td>1.000000</td>\n",
       "      <td>1.000000</td>\n",
       "      <td>1.000000</td>\n",
       "      <td>1.000000</td>\n",
       "      <td>1.000000</td>\n",
       "      <td>1.000000</td>\n",
       "    </tr>\n",
       "    <tr>\n",
       "      <th>25%</th>\n",
       "      <td>4.000000</td>\n",
       "      <td>3.000000</td>\n",
       "      <td>3.000000</td>\n",
       "      <td>4.000000</td>\n",
       "      <td>4.000000</td>\n",
       "      <td>4.000000</td>\n",
       "      <td>4.000000</td>\n",
       "      <td>3.000000</td>\n",
       "    </tr>\n",
       "    <tr>\n",
       "      <th>50%</th>\n",
       "      <td>4.000000</td>\n",
       "      <td>4.000000</td>\n",
       "      <td>4.000000</td>\n",
       "      <td>4.000000</td>\n",
       "      <td>4.000000</td>\n",
       "      <td>4.000000</td>\n",
       "      <td>4.000000</td>\n",
       "      <td>4.000000</td>\n",
       "    </tr>\n",
       "    <tr>\n",
       "      <th>75%</th>\n",
       "      <td>5.000000</td>\n",
       "      <td>5.000000</td>\n",
       "      <td>5.000000</td>\n",
       "      <td>5.000000</td>\n",
       "      <td>5.000000</td>\n",
       "      <td>5.000000</td>\n",
       "      <td>5.000000</td>\n",
       "      <td>5.000000</td>\n",
       "    </tr>\n",
       "    <tr>\n",
       "      <th>max</th>\n",
       "      <td>5.000000</td>\n",
       "      <td>5.000000</td>\n",
       "      <td>5.000000</td>\n",
       "      <td>5.000000</td>\n",
       "      <td>5.000000</td>\n",
       "      <td>5.000000</td>\n",
       "      <td>5.000000</td>\n",
       "      <td>5.000000</td>\n",
       "    </tr>\n",
       "  </tbody>\n",
       "</table>\n",
       "</div>"
      ],
      "text/plain": [
       "          Culture      Career  Communication      Growth     Manager  \\\n",
       "count  174.000000  174.000000     174.000000  174.000000  174.000000   \n",
       "mean     4.051724    3.770115       3.839080    3.988506    4.235632   \n",
       "std      0.894862    1.050198       0.948056    0.866783    0.922860   \n",
       "min      1.000000    1.000000       1.000000    1.000000    1.000000   \n",
       "25%      4.000000    3.000000       3.000000    4.000000    4.000000   \n",
       "50%      4.000000    4.000000       4.000000    4.000000    4.000000   \n",
       "75%      5.000000    5.000000       5.000000    5.000000    5.000000   \n",
       "max      5.000000    5.000000       5.000000    5.000000    5.000000   \n",
       "\n",
       "          Respect        Team  Satisfaction  \n",
       "count  174.000000  174.000000    174.000000  \n",
       "mean     4.258621    4.166667      3.954023  \n",
       "std      0.837565    0.826465      0.904811  \n",
       "min      1.000000    1.000000      1.000000  \n",
       "25%      4.000000    4.000000      3.000000  \n",
       "50%      4.000000    4.000000      4.000000  \n",
       "75%      5.000000    5.000000      5.000000  \n",
       "max      5.000000    5.000000      5.000000  "
      ]
     },
     "execution_count": 12,
     "metadata": {},
     "output_type": "execute_result"
    }
   ],
   "source": [
    "df.describe()"
   ]
  },
  {
   "cell_type": "code",
   "execution_count": 266,
   "metadata": {},
   "outputs": [
    {
     "data": {
      "text/plain": [
       "<seaborn.axisgrid.FacetGrid at 0x1a274cf950>"
      ]
     },
     "execution_count": 266,
     "metadata": {},
     "output_type": "execute_result"
    },
    {
     "data": {
      "image/png": "[encoded data removed]",
      "text/plain": [
       "<Figure size 2160x720 with 1 Axes>"
      ]
     },
     "metadata": {},
     "output_type": "display_data"
    }
   ],
   "source": [
    "sns.set(font_scale=3)\n",
    "sns.catplot(data=df,kind='box',height=10,aspect=3)"
   ]
  },
  {
   "cell_type": "markdown",
   "metadata": {},
   "source": [
    "## Relationship Analysis"
   ]
  },
  {
   "cell_type": "code",
   "execution_count": 14,
   "metadata": {},
   "outputs": [
    {
     "data": {
      "text/html": [
       "<div>\n",
       "<style scoped>\n",
       "    .dataframe tbody tr th:only-of-type {\n",
       "        vertical-align: middle;\n",
       "    }\n",
       "\n",
       "    .dataframe tbody tr th {\n",
       "        vertical-align: top;\n",
       "    }\n",
       "\n",
       "    .dataframe thead th {\n",
       "        text-align: right;\n",
       "    }\n",
       "</style>\n",
       "<table border=\"1\" class=\"dataframe\">\n",
       "  <thead>\n",
       "    <tr style=\"text-align: right;\">\n",
       "      <th></th>\n",
       "      <th>Culture</th>\n",
       "      <th>Career</th>\n",
       "      <th>Communication</th>\n",
       "      <th>Growth</th>\n",
       "      <th>Manager</th>\n",
       "      <th>Respect</th>\n",
       "      <th>Team</th>\n",
       "      <th>Satisfaction</th>\n",
       "    </tr>\n",
       "  </thead>\n",
       "  <tbody>\n",
       "    <tr>\n",
       "      <th>Culture</th>\n",
       "      <td>1.000000</td>\n",
       "      <td>0.338714</td>\n",
       "      <td>0.418672</td>\n",
       "      <td>0.336122</td>\n",
       "      <td>0.356126</td>\n",
       "      <td>0.467919</td>\n",
       "      <td>0.496303</td>\n",
       "      <td>0.495548</td>\n",
       "    </tr>\n",
       "    <tr>\n",
       "      <th>Career</th>\n",
       "      <td>0.338714</td>\n",
       "      <td>1.000000</td>\n",
       "      <td>0.392246</td>\n",
       "      <td>0.765428</td>\n",
       "      <td>0.342491</td>\n",
       "      <td>0.514843</td>\n",
       "      <td>0.390705</td>\n",
       "      <td>0.518042</td>\n",
       "    </tr>\n",
       "    <tr>\n",
       "      <th>Communication</th>\n",
       "      <td>0.418672</td>\n",
       "      <td>0.392246</td>\n",
       "      <td>1.000000</td>\n",
       "      <td>0.356476</td>\n",
       "      <td>0.294643</td>\n",
       "      <td>0.409409</td>\n",
       "      <td>0.270500</td>\n",
       "      <td>0.395634</td>\n",
       "    </tr>\n",
       "    <tr>\n",
       "      <th>Growth</th>\n",
       "      <td>0.336122</td>\n",
       "      <td>0.765428</td>\n",
       "      <td>0.356476</td>\n",
       "      <td>1.000000</td>\n",
       "      <td>0.364714</td>\n",
       "      <td>0.489804</td>\n",
       "      <td>0.381932</td>\n",
       "      <td>0.478392</td>\n",
       "    </tr>\n",
       "    <tr>\n",
       "      <th>Manager</th>\n",
       "      <td>0.356126</td>\n",
       "      <td>0.342491</td>\n",
       "      <td>0.294643</td>\n",
       "      <td>0.364714</td>\n",
       "      <td>1.000000</td>\n",
       "      <td>0.541399</td>\n",
       "      <td>0.440827</td>\n",
       "      <td>0.463009</td>\n",
       "    </tr>\n",
       "    <tr>\n",
       "      <th>Respect</th>\n",
       "      <td>0.467919</td>\n",
       "      <td>0.514843</td>\n",
       "      <td>0.409409</td>\n",
       "      <td>0.489804</td>\n",
       "      <td>0.541399</td>\n",
       "      <td>1.000000</td>\n",
       "      <td>0.546956</td>\n",
       "      <td>0.595465</td>\n",
       "    </tr>\n",
       "    <tr>\n",
       "      <th>Team</th>\n",
       "      <td>0.496303</td>\n",
       "      <td>0.390705</td>\n",
       "      <td>0.270500</td>\n",
       "      <td>0.381932</td>\n",
       "      <td>0.440827</td>\n",
       "      <td>0.546956</td>\n",
       "      <td>1.000000</td>\n",
       "      <td>0.566856</td>\n",
       "    </tr>\n",
       "    <tr>\n",
       "      <th>Satisfaction</th>\n",
       "      <td>0.495548</td>\n",
       "      <td>0.518042</td>\n",
       "      <td>0.395634</td>\n",
       "      <td>0.478392</td>\n",
       "      <td>0.463009</td>\n",
       "      <td>0.595465</td>\n",
       "      <td>0.566856</td>\n",
       "      <td>1.000000</td>\n",
       "    </tr>\n",
       "  </tbody>\n",
       "</table>\n",
       "</div>"
      ],
      "text/plain": [
       "                Culture    Career  Communication    Growth   Manager  \\\n",
       "Culture        1.000000  0.338714       0.418672  0.336122  0.356126   \n",
       "Career         0.338714  1.000000       0.392246  0.765428  0.342491   \n",
       "Communication  0.418672  0.392246       1.000000  0.356476  0.294643   \n",
       "Growth         0.336122  0.765428       0.356476  1.000000  0.364714   \n",
       "Manager        0.356126  0.342491       0.294643  0.364714  1.000000   \n",
       "Respect        0.467919  0.514843       0.409409  0.489804  0.541399   \n",
       "Team           0.496303  0.390705       0.270500  0.381932  0.440827   \n",
       "Satisfaction   0.495548  0.518042       0.395634  0.478392  0.463009   \n",
       "\n",
       "                Respect      Team  Satisfaction  \n",
       "Culture        0.467919  0.496303      0.495548  \n",
       "Career         0.514843  0.390705      0.518042  \n",
       "Communication  0.409409  0.270500      0.395634  \n",
       "Growth         0.489804  0.381932      0.478392  \n",
       "Manager        0.541399  0.440827      0.463009  \n",
       "Respect        1.000000  0.546956      0.595465  \n",
       "Team           0.546956  1.000000      0.566856  \n",
       "Satisfaction   0.595465  0.566856      1.000000  "
      ]
     },
     "execution_count": 14,
     "metadata": {},
     "output_type": "execute_result"
    }
   ],
   "source": [
    "corr = df.corr()\n",
    "corr"
   ]
  },
  {
   "cell_type": "code",
   "execution_count": 15,
   "metadata": {},
   "outputs": [
    {
     "data": {
      "text/plain": [
       "<matplotlib.axes._subplots.AxesSubplot at 0x1a213b9210>"
      ]
     },
     "execution_count": 15,
     "metadata": {},
     "output_type": "execute_result"
    },
    {
     "data": {
      "image/png": "[encoded data removed]",
      "text/plain": [
       "<Figure size 432x288 with 2 Axes>"
      ]
     },
     "metadata": {
      "needs_background": "light"
     },
     "output_type": "display_data"
    }
   ],
   "source": [
    "sns.heatmap(corr)"
   ]
  },
  {
   "cell_type": "code",
   "execution_count": 268,
   "metadata": {},
   "outputs": [
    {
     "name": "stdout",
     "output_type": "stream",
     "text": [
      "Coefficients:  [0.14393909 0.15266178 0.07166857 0.04401203 0.09846918 0.2195831\n",
      " 0.25739613]\n",
      "Intercept:  -0.0800988377905143\n",
      "R Squared Value:  0.5130276063085571\n"
     ]
    }
   ],
   "source": [
    "from sklearn import linear_model\n",
    "\n",
    "X = df[['Culture','Career','Communication','Growth','Manager','Respect','Team']]\n",
    "y = df['Satisfaction']\n",
    "\n",
    "regr = linear_model.LinearRegression()\n",
    "regr.fit(X, y)\n",
    "\n",
    "print(\"Coefficients: \" ,regr.coef_)\n",
    "print(\"Intercept: \", regr.intercept_)\n",
    "print(\"R Squared Value: \", regr.score(X,y))"
   ]
  },
  {
   "cell_type": "code",
   "execution_count": 254,
   "metadata": {},
   "outputs": [
    {
     "data": {
      "text/html": [
       "<div>\n",
       "<style scoped>\n",
       "    .dataframe tbody tr th:only-of-type {\n",
       "        vertical-align: middle;\n",
       "    }\n",
       "\n",
       "    .dataframe tbody tr th {\n",
       "        vertical-align: top;\n",
       "    }\n",
       "\n",
       "    .dataframe thead th {\n",
       "        text-align: right;\n",
       "    }\n",
       "</style>\n",
       "<table border=\"1\" class=\"dataframe\">\n",
       "  <thead>\n",
       "    <tr style=\"text-align: right;\">\n",
       "      <th></th>\n",
       "      <th>Career</th>\n",
       "      <th>Communication</th>\n",
       "      <th>Culture</th>\n",
       "      <th>Growth</th>\n",
       "      <th>Manager</th>\n",
       "      <th>Respect</th>\n",
       "      <th>Satisfaction</th>\n",
       "      <th>Team</th>\n",
       "    </tr>\n",
       "    <tr>\n",
       "      <th>Company</th>\n",
       "      <th></th>\n",
       "      <th></th>\n",
       "      <th></th>\n",
       "      <th></th>\n",
       "      <th></th>\n",
       "      <th></th>\n",
       "      <th></th>\n",
       "      <th></th>\n",
       "    </tr>\n",
       "  </thead>\n",
       "  <tbody>\n",
       "    <tr>\n",
       "      <th>BrightStar</th>\n",
       "      <td>3.416667</td>\n",
       "      <td>3.527778</td>\n",
       "      <td>4.000000</td>\n",
       "      <td>3.777778</td>\n",
       "      <td>3.916667</td>\n",
       "      <td>4.055556</td>\n",
       "      <td>3.777778</td>\n",
       "      <td>3.916667</td>\n",
       "    </tr>\n",
       "    <tr>\n",
       "      <th>Cyberspace</th>\n",
       "      <td>3.791667</td>\n",
       "      <td>4.208333</td>\n",
       "      <td>3.916667</td>\n",
       "      <td>3.916667</td>\n",
       "      <td>4.291667</td>\n",
       "      <td>4.250000</td>\n",
       "      <td>4.125000</td>\n",
       "      <td>4.083333</td>\n",
       "    </tr>\n",
       "    <tr>\n",
       "      <th>Fluent</th>\n",
       "      <td>3.750000</td>\n",
       "      <td>3.416667</td>\n",
       "      <td>4.333333</td>\n",
       "      <td>4.166667</td>\n",
       "      <td>4.416667</td>\n",
       "      <td>4.583333</td>\n",
       "      <td>4.166667</td>\n",
       "      <td>4.333333</td>\n",
       "    </tr>\n",
       "    <tr>\n",
       "      <th>Pantheon</th>\n",
       "      <td>3.757576</td>\n",
       "      <td>3.939394</td>\n",
       "      <td>4.181818</td>\n",
       "      <td>3.909091</td>\n",
       "      <td>4.151515</td>\n",
       "      <td>4.393939</td>\n",
       "      <td>4.121212</td>\n",
       "      <td>4.484848</td>\n",
       "    </tr>\n",
       "    <tr>\n",
       "      <th>Plexus</th>\n",
       "      <td>3.733333</td>\n",
       "      <td>3.800000</td>\n",
       "      <td>3.933333</td>\n",
       "      <td>3.966667</td>\n",
       "      <td>4.333333</td>\n",
       "      <td>4.066667</td>\n",
       "      <td>3.600000</td>\n",
       "      <td>4.000000</td>\n",
       "    </tr>\n",
       "    <tr>\n",
       "      <th>Sparta</th>\n",
       "      <td>4.128205</td>\n",
       "      <td>3.974359</td>\n",
       "      <td>4.076923</td>\n",
       "      <td>4.256410</td>\n",
       "      <td>4.435897</td>\n",
       "      <td>4.384615</td>\n",
       "      <td>4.076923</td>\n",
       "      <td>4.256410</td>\n",
       "    </tr>\n",
       "  </tbody>\n",
       "</table>\n",
       "</div>"
      ],
      "text/plain": [
       "              Career  Communication   Culture    Growth   Manager   Respect  \\\n",
       "Company                                                                       \n",
       "BrightStar  3.416667       3.527778  4.000000  3.777778  3.916667  4.055556   \n",
       "Cyberspace  3.791667       4.208333  3.916667  3.916667  4.291667  4.250000   \n",
       "Fluent      3.750000       3.416667  4.333333  4.166667  4.416667  4.583333   \n",
       "Pantheon    3.757576       3.939394  4.181818  3.909091  4.151515  4.393939   \n",
       "Plexus      3.733333       3.800000  3.933333  3.966667  4.333333  4.066667   \n",
       "Sparta      4.128205       3.974359  4.076923  4.256410  4.435897  4.384615   \n",
       "\n",
       "            Satisfaction      Team  \n",
       "Company                             \n",
       "BrightStar      3.777778  3.916667  \n",
       "Cyberspace      4.125000  4.083333  \n",
       "Fluent          4.166667  4.333333  \n",
       "Pantheon        4.121212  4.484848  \n",
       "Plexus          3.600000  4.000000  \n",
       "Sparta          4.076923  4.256410  "
      ]
     },
     "execution_count": 254,
     "metadata": {},
     "output_type": "execute_result"
    }
   ],
   "source": [
    "df.pivot_table(index='Company', aggfunc='mean')"
   ]
  },
  {
   "cell_type": "code",
   "execution_count": 260,
   "metadata": {},
   "outputs": [
    {
     "data": {
      "text/plain": [
       "Culture          4.051724\n",
       "Career           3.770115\n",
       "Communication    3.839080\n",
       "Growth           3.988506\n",
       "Manager          4.235632\n",
       "Respect          4.258621\n",
       "Team             4.166667\n",
       "Satisfaction     3.954023\n",
       "dtype: float64"
      ]
     },
     "execution_count": 260,
     "metadata": {},
     "output_type": "execute_result"
    }
   ],
   "source": [
    "df.mean()"
   ]
  },
  {
   "cell_type": "code",
   "execution_count": 180,
   "metadata": {},
   "outputs": [
    {
     "data": {
      "image/png": "[encoded data removed]",
      "text/plain": [
       "<Figure size 648x648 with 6 Axes>"
      ]
     },
     "metadata": {
      "needs_background": "light"
     },
     "output_type": "display_data"
    }
   ],
   "source": [
    "fig,ax = plt.subplots(2,3, figsize=(9,9))                \n",
    "df[df['Company'] == 'BrightStar'].mean().plot(kind='bar', title='BrightStar', ax = ax[0,0])\n",
    "df[df['Company'] == 'Cyberspace'].mean().plot(kind='bar', title='Cyberspace',ax = ax[0,1])\n",
    "df[df['Company'] == 'Fluent'].mean().plot(kind='bar', title='Fluent',ax = ax[1,0])\n",
    "df[df['Company'] == 'Pantheon'].mean().plot(kind='bar', title='Pantheon',ax = ax[1,1])\n",
    "df[df['Company'] == 'Plexus'].mean().plot(kind='bar', title='Plexus',ax = ax[0,2])\n",
    "df[df['Company'] == 'Sparta'].mean().plot(kind='bar', title='Sparta',ax = ax[1,2])\n",
    "\n",
    "\n",
    "plt.tight_layout()\n",
    "plt.show()"
   ]
  },
  {
   "cell_type": "code",
   "execution_count": 81,
   "metadata": {},
   "outputs": [
    {
     "data": {
      "text/plain": [
       "<matplotlib.axes._subplots.AxesSubplot at 0x1a25401e90>"
      ]
     },
     "execution_count": 81,
     "metadata": {},
     "output_type": "execute_result"
    },
    {
     "data": {
      "image/png": "[encoded data removed]",
      "text/plain": [
       "<Figure size 432x288 with 1 Axes>"
      ]
     },
     "metadata": {
      "needs_background": "light"
     },
     "output_type": "display_data"
    }
   ],
   "source": [
    "pd.crosstab(columns=[df.Satisfaction], index=[df.Company], values=df.Satisfaction, aggfunc='mean').plot(kind='bar')"
   ]
  }
 ],
 "metadata": {
  "kernelspec": {
   "display_name": "Python 3",
   "language": "python",
   "name": "python3"
  },
  "language_info": {
   "codemirror_mode": {
    "name": "ipython",
    "version": 3
   },
   "file_extension": ".py",
   "mimetype": "text/x-python",
   "name": "python",
   "nbconvert_exporter": "python",
   "pygments_lexer": "ipython3",
   "version": "3.7.6"
  }
 },
 "nbformat": 4,
 "nbformat_minor": 4
}
